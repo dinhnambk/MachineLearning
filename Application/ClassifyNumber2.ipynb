{
 "cells": [
  {
   "cell_type": "code",
   "execution_count": 2,
   "metadata": {
    "collapsed": true
   },
   "outputs": [],
   "source": [
    "import numpy as np \n",
    "from mnist import MNIST\n",
    "import matplotlib.pyplot as plt\n",
    "from sklearn import linear_model\n",
    "from sklearn.metrics import accuracy_score\n",
    "from display_network import *"
   ]
  },
  {
   "cell_type": "code",
   "execution_count": 3,
   "metadata": {
    "collapsed": true
   },
   "outputs": [],
   "source": [
    "mntrain = MNIST('/home/dinhnam/Downloads/MNIST/')\n",
    "mntrain.load_training()\n",
    "Xtrain_all = np.asarray(mntrain.train_images)\n",
    "ytrain_all = np.array(mntrain.train_labels.tolist())\n",
    "\n",
    "mntest = MNIST('/home/dinhnam/Downloads/MNIST/')\n",
    "mntest.load_testing()\n",
    "Xtest_all = np.asarray(mntest.test_images)\n",
    "ytest_all = np.array(mntest.test_labels.tolist())"
   ]
  },
  {
   "cell_type": "code",
   "execution_count": 4,
   "metadata": {
    "collapsed": true
   },
   "outputs": [],
   "source": [
    "cls = [[0], [1]]"
   ]
  },
  {
   "cell_type": "code",
   "execution_count": 5,
   "metadata": {
    "collapsed": true
   },
   "outputs": [],
   "source": [
    "def extract_data(X, y, classes):\n",
    "    \"\"\"\n",
    "    X: numpy array, matrix of size (N, d), d is data dim\n",
    "    y: numpy array, size (N, )\n",
    "    cls: two lists of labels. For example: \n",
    "        cls = [[1, 4, 7], [5, 6, 8]]\n",
    "    return:\n",
    "        X: extracted data\n",
    "        y: extracted label \n",
    "            (0 and 1, corresponding to two lists in cls)\n",
    "    \"\"\"\n",
    "    y_res_id = np.array([])\n",
    "    for i in cls[0]:\n",
    "        y_res_id = np.hstack((y_res_id, np.where(y == i)[0]))\n",
    "    n0 = len(y_res_id)\n",
    "\n",
    "    for i in cls[1]:\n",
    "        y_res_id = np.hstack((y_res_id, np.where(y == i)[0]))\n",
    "    n1 = len(y_res_id) - n0 \n",
    "\n",
    "    y_res_id = y_res_id.astype(int)\n",
    "    X_res = X[y_res_id, :]/255.0\n",
    "    y_res = np.asarray([0]*n0 + [1]*n1)\n",
    "    return (X_res, y_res)\n",
    "\n",
    "\n",
    "# extract data for training \n",
    "(X_train, y_train) = extract_data(Xtrain_all, ytrain_all, cls)\n",
    "\n",
    "# extract data for test \n",
    "(X_test, y_test) = extract_data(Xtest_all, ytest_all, cls)"
   ]
  },
  {
   "cell_type": "code",
   "execution_count": 6,
   "metadata": {
    "collapsed": false
   },
   "outputs": [
    {
     "name": "stdout",
     "output_type": "stream",
     "text": [
      "Accuracy: 99.95 %\n"
     ]
    }
   ],
   "source": [
    "# train the logistic regression model \n",
    "logreg = linear_model.LogisticRegression(C=1e5) # just a big number \n",
    "logreg.fit(X_train, y_train)\n",
    "\n",
    "# predict \n",
    "y_pred = logreg.predict(X_test)\n",
    "print \"Accuracy: %.2f %%\" %(100*accuracy_score(y_test, y_pred.tolist()))"
   ]
  },
  {
   "cell_type": "code",
   "execution_count": 7,
   "metadata": {
    "collapsed": false
   },
   "outputs": [
    {
     "name": "stderr",
     "output_type": "stream",
     "text": [
      "/usr/lib/python2.7/dist-packages/numpy/core/numeric.py:190: VisibleDeprecationWarning: using a non-integer number instead of an integer will result in an error in the future\n",
      "  a = empty(shape, dtype, order)\n"
     ]
    },
    {
     "data": {
      "image/png": "[encoded data removed]",
      "text/plain": [
       "<matplotlib.figure.Figure at 0x7f4ecc86a210>"
      ]
     },
     "metadata": {},
     "output_type": "display_data"
    }
   ],
   "source": [
    "# display misclassified image(s)\n",
    "mis = np.where((y_pred - y_test) != 0)[0]\n",
    "Xmis = X_test[mis, :]\n",
    "\n",
    "plt.axis('off')\n",
    "A = display_network(Xmis.T)\n",
    "f2 = plt.imshow(A, interpolation='nearest' )\n",
    "plt.gray()\n",
    "plt.show()"
   ]
  },
  {
   "cell_type": "code",
   "execution_count": null,
   "metadata": {
    "collapsed": true
   },
   "outputs": [],
   "source": []
  }
 ],
 "metadata": {
  "kernelspec": {
   "display_name": "Python 2",
   "language": "python",
   "name": "python2"
  },
  "language_info": {
   "codemirror_mode": {
    "name": "ipython",
    "version": 2
   },
   "file_extension": ".py",
   "mimetype": "text/x-python",
   "name": "python",
   "nbconvert_exporter": "python",
   "pygments_lexer": "ipython2",
   "version": "2.7.12"
  }
 },
 "nbformat": 4,
 "nbformat_minor": 2
}
